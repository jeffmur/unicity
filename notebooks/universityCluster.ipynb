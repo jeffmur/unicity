{
 "metadata": {
  "language_info": {
   "codemirror_mode": {
    "name": "ipython",
    "version": 3
   },
   "file_extension": ".py",
   "mimetype": "text/x-python",
   "name": "python",
   "nbconvert_exporter": "python",
   "pygments_lexer": "ipython3",
   "version": "3.8.6"
  },
  "orig_nbformat": 2,
  "kernelspec": {
   "name": "python386jvsc74a57bd0656f97a3d5d97709f7800af68ff37a0dd6c13eca97f042b8ebf41721063a2d37",
   "display_name": "Python 3.8.6 64-bit ('490-demo-01ly7PGP': venv)"
  }
 },
 "nbformat": 4,
 "nbformat_minor": 2,
 "cells": [
  {
   "cell_type": "code",
   "execution_count": 1,
   "metadata": {},
   "outputs": [],
   "source": [
    "import dotenv\n",
    "import pandas as pd \n",
    "import numpy as np \n",
    "import gmaps\n",
    "from lib import geoSanitize as geo, preprocess as pre, unique, config"
   ]
  },
  {
   "cell_type": "code",
   "execution_count": 2,
   "metadata": {},
   "outputs": [],
   "source": [
    "import skmob.utils.plot as p \n",
    "import folium \n",
    "map = folium.Map(location=[39.906667, 116.3975], default_zoom_start=15)"
   ]
  },
  {
   "cell_type": "code",
   "execution_count": 3,
   "metadata": {},
   "outputs": [],
   "source": [
    "university_df = pd.read_csv('../data/university.csv')\n",
    "university_df = university_df[['UID', 'Latitude', 'Longitude', 'Time', 'loc_id']]"
   ]
  },
  {
   "cell_type": "code",
   "execution_count": 4,
   "metadata": {},
   "outputs": [
    {
     "output_type": "stream",
     "name": "stdout",
     "text": [
      "Num of Users:  88\n[  0   1   3   4   5   7   8   9  10  11  12  14  15  16  17  18  19  22\n  24  25  26  28  30  32  33  34  36  37  38  39  40  41  44  46  48  50\n  52  62  65  68  69  71  73  74  76  78  79  81  82  83  84  85  88  89\n  92  96 101 102 103 104 106 109 110 112 113 115 120 122 125 126 128 129\n 130 131 134 135 136 140 142 144 147 153 155 163 167 168 169 179]\nNum of records: 55673\n"
     ]
    }
   ],
   "source": [
    "uids = university_df['UID']\n",
    "print(\"Num of Users: \",len(np.unique(uids)))\n",
    "print(np.unique(uids))\n",
    "print(\"Num of records:\", len(uids))"
   ]
  },
  {
   "cell_type": "code",
   "execution_count": 5,
   "metadata": {},
   "outputs": [],
   "source": [
    "gmaps.configure(api_key=config.API_KEY)"
   ]
  },
  {
   "cell_type": "code",
   "execution_count": 10,
   "metadata": {},
   "outputs": [],
   "source": [
    "fig = gmaps.figure()\n",
    "fig.add_layer(gmaps.heatmap_layer(opacity=1.0, max_intensity=1000, locations=university_df[['Latitude', 'Longitude']]))"
   ]
  },
  {
   "source": [
    "fig"
   ],
   "cell_type": "code",
   "metadata": {},
   "execution_count": 11,
   "outputs": [
    {
     "output_type": "display_data",
     "data": {
      "text/plain": "Figure(layout=FigureLayout(height='420px'))",
      "application/vnd.jupyter.widget-view+json": {
       "version_major": 2,
       "version_minor": 0,
       "model_id": "5ba2f06eaea94b00b03ff4cc37176409"
      }
     },
     "metadata": {}
    }
   ]
  },
  {
   "cell_type": "code",
   "execution_count": 13,
   "metadata": {},
   "outputs": [],
   "source": [
    "from ipywidgets.embed import embed_minimal_html\n",
    "embed_minimal_html('university.html', views=[fig])"
   ]
  },
  {
   "cell_type": "code",
   "execution_count": null,
   "metadata": {},
   "outputs": [],
   "source": []
  }
 ]
}